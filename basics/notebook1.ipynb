{
 "cells": [
  {
   "cell_type": "markdown",
   "metadata": {},
   "source": [
    "You can convert this to a notebook with \n",
    "```\n",
    "julia> using Weave\n",
    "julia> convert_doc(\"notebook1.jl\", \"notebook1.ipynb\")\n",
    "```"
   ]
  },
  {
   "cell_type": "markdown",
   "metadata": {},
   "source": [
    "Julia Lang\n",
    "==================================================================\n",
    "* Open source\n",
    "* High level matlab-like syntax\n",
    "* Fast like C (often one can get within a factor of 2 of C)\n",
    "* Made for scientific computing (matrices first class, linear algebra support, fft ...)\n",
    "* Modern features like:\n",
    "  - macros\n",
    "  - closures\n",
    "  - generated functions\n",
    "  - pass by reference\n",
    "  - OO qualities but done instead with multiple dispatch\n",
    "  - user defined types are just as fast as native types\n",
    "  - flexible modern package manager and with version enviroments\n",
    "  - parallelism and distributed computation out of the box\n",
    "  - powerful shell programming\n",
    "  - julia notebooks\n",
    "  - nearly system wide AD\n",
    "  - true threading\n",
    "  - code can be written in Unicode\n",
    "  \t```\n",
    "  \tjulia> 😍 = √2\n",
    "\t1.4142135623730951\n",
    "\n",
    "\tjulia> 🤯 = 😍 + π\n",
    "\t4.555806215962888\n",
    "\t```\n",
    "* I can finally write fast loops (not to be underestaimted)\n",
    "* Since it is fast most of julia is written in julia. Also, since it is high level, the source is actually readable (and a good way to learn)\n",
    "* Julia interacts with python so well, any of the missing functionality can be called out to python"
   ]
  },
  {
   "cell_type": "markdown",
   "metadata": {},
   "source": [
    "Install \n",
    "=========================================================="
   ]
  },
  {
   "cell_type": "markdown",
   "metadata": {},
   "source": [
    "Basic installation and documentation can be \n",
    "found at https://julialang.org\n",
    "\n",
    "This wiki for documentation is also very good and \n",
    "readable https://en.wikibooks.org/wiki/Introducing_Julia"
   ]
  },
  {
   "cell_type": "markdown",
   "metadata": {},
   "source": [
    "Once you have installed the julia app it will be useful to be able to launch\n",
    "it from the command line. To figure out the path do something like this in \n",
    "your terminal\n",
    "```shell\n",
    "~ ❯❯❯ ls /Applications/Julia*/Contents/Resources/julia/bin/julia\n",
    "/Applications/Julia-1.3.1.app/Contents/Resources/julia/bin/julia\n",
    "```\n",
    "\n",
    "Now create an alias to that path by running (or adding to `.bash_profile` or `.zshrc`)\n",
    "```\n",
    "alias julia=\"/Applications/Julia-1.3.1.app/Contents/Resources/julia/bin/julia\"\n",
    "```\n",
    "\n",
    " and/ or  \n",
    " \n",
    "```\n",
    "export PATH=\"/Applications/Julia-1.3.1.app/Contents/Resources/julia/bin/:$PATH\"\n",
    "```"
   ]
  },
  {
   "cell_type": "markdown",
   "metadata": {},
   "source": [
    "If your using the editor Juno ... here are some tips (key maps on a mac)\n",
    "run cell and move down: option-enter or alt-enter\n",
    "move to cell: alt-up or alt-down\n",
    "run line and move down: shift-enter\n",
    "run selected code: cmd-enter"
   ]
  },
  {
   "cell_type": "markdown",
   "metadata": {},
   "source": [
    "Quick Start\n",
    "==========================================================\n",
    "for the demo run these commands in the Julia REPL..."
   ]
  },
  {
   "cell_type": "code",
   "execution_count": null,
   "metadata": {},
   "outputs": [],
   "source": [
    "a  = 1 + sin(2)\n",
    "b  = rand(15) # 15 uniform random numbers\n",
    "c  = randn(5,5) # a 5x5 matrix of standard normals\n",
    "Σ² = c * a * π\n",
    "varinfo()"
   ]
  },
  {
   "cell_type": "markdown",
   "metadata": {},
   "source": []
  },
  {
   "cell_type": "code",
   "execution_count": null,
   "metadata": {},
   "outputs": [],
   "source": [
    "using Statistics: mean, std # just import functions mean and std into global scope\n",
    "mean(c)\n",
    "std(c)"
   ]
  },
  {
   "cell_type": "markdown",
   "metadata": {},
   "source": []
  },
  {
   "cell_type": "code",
   "execution_count": null,
   "metadata": {},
   "outputs": [],
   "source": [
    "rand(1:10,25) # 25 draws with replacement from 1,2,3,..., 10"
   ]
  },
  {
   "cell_type": "markdown",
   "metadata": {},
   "source": []
  },
  {
   "cell_type": "code",
   "execution_count": null,
   "metadata": {},
   "outputs": [],
   "source": [
    "x = rand(1000, 1000)\n",
    "y = randn(1000, 1000)\n",
    "z = Array{Float64,2}(undef, 1000, 1000) # initialize an empty array\n",
    "\n",
    "foo(x) = (x^2)/2 # one line function definition\n",
    "\n",
    "\n",
    "for i in eachindex(z) #\n",
    "    z[i] = log(x[i] + 1) - foo(sin(2 * y[i]))\n",
    "end\n",
    "\n",
    "w  = log.(x .+ 1) .- foo.(sin.(2 .* y)) # this is a fuzed loop creating a new variable\n",
    "z .- w\n",
    "\n",
    "pointer(w)\n",
    "w .= log.(x .+ 1) .- foo.(sin.(2 .* y)); # this is a fuzed mutating loop\n",
    "pointer(w)"
   ]
  },
  {
   "cell_type": "markdown",
   "metadata": {},
   "source": [
    "macros"
   ]
  },
  {
   "cell_type": "code",
   "execution_count": null,
   "metadata": {},
   "outputs": [],
   "source": [
    "@time log.(x .+ 1) .- foo.(sin.(2 .* y));"
   ]
  },
  {
   "cell_type": "markdown",
   "metadata": {},
   "source": [
    "benchmarking macro"
   ]
  },
  {
   "cell_type": "code",
   "execution_count": null,
   "metadata": {},
   "outputs": [],
   "source": [
    "using BenchmarkTools\n",
    "@benchmark log.(x .+ 1) .- foo.(sin.(2 .* y))"
   ]
  },
  {
   "cell_type": "markdown",
   "metadata": {},
   "source": [
    "run a file of julia source\n",
    "```\n",
    "julia> include(\"run.jl\")\n",
    "```"
   ]
  },
  {
   "cell_type": "markdown",
   "metadata": {},
   "source": [
    "exit REPL"
   ]
  },
  {
   "cell_type": "code",
   "execution_count": null,
   "metadata": {},
   "outputs": [],
   "source": [
    "# julia> exit()"
   ]
  },
  {
   "cell_type": "markdown",
   "metadata": {},
   "source": [
    "To uninstall, just remove binaries (this should just be one directory) and ~/.julia/"
   ]
  },
  {
   "cell_type": "markdown",
   "metadata": {},
   "source": [
    "install 3rd party packages hosted on github.\n",
    "these are saved in ~/.julia/\n",
    "```\n",
    "julia> using Pkg\n",
    "julia> pkg\"add Distributions\"\n",
    "```"
   ]
  },
  {
   "cell_type": "markdown",
   "metadata": {},
   "source": [
    "load a package into a session"
   ]
  },
  {
   "cell_type": "code",
   "execution_count": null,
   "metadata": {},
   "outputs": [],
   "source": [
    "using Distributions\n",
    "X = Beta(1/2, 1/2) # X is a Beta random variable\n",
    "fieldnames(typeof(X))\n",
    "rand(X, 10) # 10 random draws from X\n",
    "mean(X) # overloaded by Distributions\n",
    "var(X)  # -> (α * β) / ((α + β)² * (α + β + 1))\n",
    "# @edit var(X)\n",
    "# @edit mean([1,2,3])\n",
    "# @edit mean(X)"
   ]
  },
  {
   "cell_type": "markdown",
   "metadata": {},
   "source": []
  },
  {
   "cell_type": "code",
   "execution_count": null,
   "metadata": {},
   "outputs": [],
   "source": [
    "# shell mode by typing ;\n",
    "# julia>; pwd\n",
    "# julia>; cd ..\n",
    "# julia>; ls\n",
    "\n",
    "# package manager repl by typing ]\n",
    "# julia>] st\n",
    "\n",
    "# help mode by typing ?\n",
    "# julia>? sum\n",
    "\n",
    "apropos(\"determinant\")"
   ]
  },
  {
   "cell_type": "markdown",
   "metadata": {},
   "source": [
    "Easiest simplist plotting"
   ]
  },
  {
   "cell_type": "code",
   "execution_count": null,
   "metadata": {},
   "outputs": [],
   "source": [
    "using UnicodePlots: lineplot, lineplot!, scatterplot, histogram, densityplot\n",
    "x=range(0,2π, length=1000)\n",
    "lineplot(x,sin.(x))\n",
    "scatterplot(randn(50), randn(50))\n",
    "histogram(randn(1000) * 0.1, nbins= 20)\n",
    "densityplot(randn(1000), randn(1000))"
   ]
  },
  {
   "cell_type": "markdown",
   "metadata": {},
   "source": []
  },
  {
   "cell_type": "code",
   "execution_count": null,
   "metadata": {},
   "outputs": [],
   "source": [
    "using SpecialFunctions: besselk # Modified Bessel function of the second kind of order nu\n",
    "x=range(0,5, length=1000)[2:end]\n",
    "ν = 3/2\n",
    "y = x.^ν .* besselk.(ν, x)\n",
    "plt1 = lineplot(x,y, name=\"ν = 3/2\", xlabel= \"x\")\n",
    "ν = 1/2\n",
    "y = x.^ν .* besselk.(ν, x)\n",
    "lineplot!(plt1, x, y, name=\"ν = 1/2\")"
   ]
  },
  {
   "cell_type": "markdown",
   "metadata": {},
   "source": [
    "Design Philosophy: multiple dispatch and type stability\n",
    "================================================================="
   ]
  },
  {
   "cell_type": "markdown",
   "metadata": {},
   "source": [
    "Type tree"
   ]
  },
  {
   "cell_type": "code",
   "execution_count": null,
   "metadata": {},
   "outputs": [],
   "source": [
    "typeof(4)\n",
    "\n",
    "typeof(4.0)\n",
    "\n",
    "typeof(4//7)\n",
    "\n",
    "typeof(rand(101,10)) # 2-d array of floats\n",
    "\n",
    "typeof([1, 2, 3]) # 1-d array of ints\n",
    "\n",
    "# types have types\n",
    "typeof(Float64) # convention, types start with capital letter\n",
    "\n",
    "# dynamic typing\n",
    "a = 4\n",
    "typeof(a)\n",
    "\n",
    "a = 1.0\n",
    "typeof(a)\n",
    "\n",
    "# You can move up tree with super\n",
    "supertype(Int64)\n",
    "\n",
    "supertype(Int64) |> supertype\n",
    "\n",
    "supertype(Int64) |> supertype |> supertype\n",
    "\n",
    "supertype(Int64) |> supertype |> supertype |> supertype\n",
    "\n",
    "supertype(Int64) |> supertype |> supertype |> supertype |> supertype # at the top of the tree we have Any\n",
    "\n",
    "# You can move down the tree with subtypes\n",
    "subtypes(Real)\n",
    "\n",
    "subtypes(AbstractArray)\n",
    "\n",
    "# check if a type is an ancestor\n",
    "Real <: Number\n",
    "\n",
    "Real <: AbstractArray"
   ]
  },
  {
   "cell_type": "markdown",
   "metadata": {},
   "source": [
    "JIT, multiple dispatch and Type stability"
   ]
  },
  {
   "cell_type": "markdown",
   "metadata": {},
   "source": [
    "I'm defining 4 different versions of foo"
   ]
  },
  {
   "cell_type": "code",
   "execution_count": null,
   "metadata": {},
   "outputs": [],
   "source": [
    "function foo(x::Float64, y::Float64)\n",
    "    println(\"foo(Float64, Float64) was called\")\n",
    "    return round(Int64, x * y)\n",
    "end\n",
    "\n",
    "function foo(x::Real, y::Real)\n",
    "    println(\"foo(Real, Real) was called\")\n",
    "    return round(Int64, x * y)\n",
    "end\n",
    "\n",
    "function foo(x::Integer, y::Integer)\n",
    "    println(\"foo(Int, Int)  was called\")\n",
    "    x * y\n",
    "end\n",
    "\n",
    "function foo(x, y) # fall back\n",
    "    println(\"fall back was called\")\n",
    "    x .* y\n",
    "end\n",
    "\n",
    "function foo(x)\n",
    "    println(\"f(x,x) was called\")\n",
    "    foo(x, x)\n",
    "end"
   ]
  },
  {
   "cell_type": "markdown",
   "metadata": {},
   "source": []
  },
  {
   "cell_type": "code",
   "execution_count": null,
   "metadata": {},
   "outputs": [],
   "source": [
    "foo(1, 1)\n",
    "\n",
    "foo(2.0, 1)\n",
    "\n",
    "foo(2.0, 4.9)\n",
    "\n",
    "foo(2.0)\n",
    "\n",
    "foo(randn(15, 15))\n",
    "\n",
    "methods(foo) # lists all the possible call signatiures\n",
    "\n",
    "a = 2\n",
    "@time foo(a); # warm up Jit compile\n",
    "@time foo(a); # now we are using the Jit\n",
    "\n",
    "\n",
    "function baz() # not type stable\n",
    "    cntr = 0        # starts as as int\n",
    "    x = [-1, -1, 2]\n",
    "    for i = 1:length(x)\n",
    "        if x[i] > 0\n",
    "            cntr += 1.0 # depending on the run time values  might promote to a float\n",
    "        end\n",
    "    end\n",
    "    return cntr\n",
    "end\n",
    "\n",
    "\n",
    "function baz(x) # not type stable\n",
    "    cntr = 0        # starts as as int\n",
    "    for i = 1:length(x)\n",
    "        if x[i] > 0\n",
    "            cntr += 1.0 # depending on the run time values  might promote to a float\n",
    "        end\n",
    "    end\n",
    "    new_cntr = Int64(cntr)\n",
    "    return new_cntr\n",
    "end\n",
    "\n",
    "function boo(x) # type stable\n",
    "    cntr = 0.0        # same type as x entries \n",
    "    for i = 1:length(x)\n",
    "        if x[i] > 0\n",
    "            cntr += 1.0 # stays a float\n",
    "        end\n",
    "    end\n",
    "    return cntr\n",
    "end\n",
    "\n",
    "\n",
    "a = rand(10_000_000)\n",
    "@time baz(a);\n",
    "@time baz(a);\n",
    "@time boo(a);\n",
    "@time boo(a);"
   ]
  },
  {
   "cell_type": "markdown",
   "metadata": {},
   "source": [
    "check what types julia infers"
   ]
  },
  {
   "cell_type": "code",
   "execution_count": null,
   "metadata": {},
   "outputs": [],
   "source": [
    "@code_warntype baz(a)\n",
    "\n",
    "@code_warntype boo(a)"
   ]
  },
  {
   "cell_type": "markdown",
   "metadata": {},
   "source": [
    "the parsed type infered AST"
   ]
  },
  {
   "cell_type": "code",
   "execution_count": null,
   "metadata": {},
   "outputs": [],
   "source": [
    "@code_lowered baz(a)\n",
    "\n",
    "@code_lowered boo(a)"
   ]
  },
  {
   "cell_type": "markdown",
   "metadata": {},
   "source": [
    "the llvm output"
   ]
  },
  {
   "cell_type": "code",
   "execution_count": null,
   "metadata": {},
   "outputs": [],
   "source": [
    "@code_llvm baz(a)\n",
    "\n",
    "@code_llvm boo(a)"
   ]
  },
  {
   "cell_type": "markdown",
   "metadata": {},
   "source": [
    "the machine code"
   ]
  },
  {
   "cell_type": "code",
   "execution_count": null,
   "metadata": {},
   "outputs": [],
   "source": [
    "@code_native baz(a)\n",
    "\n",
    "@code_native boo(a)"
   ]
  },
  {
   "cell_type": "markdown",
   "metadata": {},
   "source": [
    "multiple dispatch in action \n",
    "========================================================"
   ]
  },
  {
   "cell_type": "code",
   "execution_count": null,
   "metadata": {},
   "outputs": [],
   "source": [
    "using Distributions\n",
    "\n",
    "x = rand(10)\n",
    "mean(x), std(x)  # functions in Statistics Julia\n",
    "\n",
    "λ, α, β = 5.5, 0.1, 0.9\n",
    "xrv = Beta(α, β) # creats an instance of a Beta random variable\n",
    "yrv = Poisson(λ) # creats  an instance of a Poisson\n",
    "zrv = Poisson(λ) # another instance\n",
    "typeof(xrv), typeof(yrv), typeof(zrv)"
   ]
  },
  {
   "cell_type": "markdown",
   "metadata": {},
   "source": [
    "mean is overloaded to give the random variable expected value."
   ]
  },
  {
   "cell_type": "code",
   "execution_count": null,
   "metadata": {},
   "outputs": [],
   "source": [
    "mean(xrv)  # expected value of a Beta(0.1, 0.9)"
   ]
  },
  {
   "cell_type": "markdown",
   "metadata": {},
   "source": [
    "std is overloaded to give the random variable standard deviation"
   ]
  },
  {
   "cell_type": "code",
   "execution_count": null,
   "metadata": {},
   "outputs": [],
   "source": [
    "std(zrv)   # std of a Poisson(5.5)"
   ]
  },
  {
   "cell_type": "markdown",
   "metadata": {},
   "source": [
    "rand is overloaded to give random samples from yrv"
   ]
  },
  {
   "cell_type": "code",
   "execution_count": null,
   "metadata": {},
   "outputs": [],
   "source": [
    "rand(yrv, 10)  # Poisson(5.5) samples\n",
    "\n",
    "@which mean(xrv) # check which method is called\n",
    "\n",
    "# @edit mean(xrv)"
   ]
  },
  {
   "cell_type": "markdown",
   "metadata": {},
   "source": [
    "If you have Julia source you can go directly to code\n",
    "This is particularly useful when debugging (you can read the source to see what is going wrong)"
   ]
  },
  {
   "cell_type": "code",
   "execution_count": null,
   "metadata": {},
   "outputs": [],
   "source": [
    "mean([\"hi\"])"
   ]
  },
  {
   "cell_type": "markdown",
   "metadata": {},
   "source": [
    "Lets see where the definition of mean to see what is going wrong"
   ]
  },
  {
   "cell_type": "code",
   "execution_count": null,
   "metadata": {},
   "outputs": [],
   "source": [
    "# edit(\"statistics.jl\", 157)"
   ]
  },
  {
   "cell_type": "markdown",
   "metadata": {},
   "source": [
    "a few fun extras \n",
    "===================================================="
   ]
  },
  {
   "cell_type": "markdown",
   "metadata": {},
   "source": [
    "easiy multiple assignment"
   ]
  },
  {
   "cell_type": "code",
   "execution_count": null,
   "metadata": {},
   "outputs": [],
   "source": [
    "a, b, c = 1, 2, 3\n",
    "b"
   ]
  },
  {
   "cell_type": "markdown",
   "metadata": {},
   "source": [
    "piping"
   ]
  },
  {
   "cell_type": "code",
   "execution_count": null,
   "metadata": {},
   "outputs": [],
   "source": [
    "a = sin(cos(exp(5)))\n",
    "b = 5 |> exp |> cos |> sin\n",
    "a == b"
   ]
  },
  {
   "cell_type": "markdown",
   "metadata": {},
   "source": [
    "un-named functions, i.e. lambda functions from python"
   ]
  },
  {
   "cell_type": "code",
   "execution_count": null,
   "metadata": {},
   "outputs": [],
   "source": [
    "y = 1.9 |> cos |> x->dot(x,x) |> x -> sin(x^2) |> log"
   ]
  },
  {
   "cell_type": "markdown",
   "metadata": {},
   "source": [
    "indexing can happen at the end"
   ]
  },
  {
   "cell_type": "code",
   "execution_count": null,
   "metadata": {},
   "outputs": [],
   "source": [
    "a = (rand(10, 10) * rand(10, 10))[2, 2]"
   ]
  },
  {
   "cell_type": "markdown",
   "metadata": {},
   "source": [
    "string interpolation is easy"
   ]
  },
  {
   "cell_type": "code",
   "execution_count": null,
   "metadata": {},
   "outputs": [],
   "source": [
    "a = 5\n",
    "\"The variable a is assigned the value $a.\"\n",
    "\n",
    "a = \"ethan\"\n",
    "\"The variable a is assigned the value $a.\"\n",
    "\n",
    "for a ∈ [\"baz\", \"boo\", \"bar\"] # loop over a vector of strings\n",
    "    println(\"The variable a is assigned the value $a\")\n",
    "end"
   ]
  },
  {
   "cell_type": "markdown",
   "metadata": {},
   "source": [
    "dictionaries"
   ]
  },
  {
   "cell_type": "code",
   "execution_count": null,
   "metadata": {},
   "outputs": [],
   "source": [
    "a = Dict(\"bar\" => 10, \"baz\" => 5, \"boo\" =>1)\n",
    "\n",
    "a[\"baz\"]"
   ]
  },
  {
   "cell_type": "markdown",
   "metadata": {},
   "source": [
    "immutable tuples"
   ]
  },
  {
   "cell_type": "code",
   "execution_count": null,
   "metadata": {},
   "outputs": [],
   "source": [
    "tul = (4, 5, 6)\n",
    "tul[2]\n",
    "\n",
    "tul[2] = 7 # error"
   ]
  },
  {
   "cell_type": "markdown",
   "metadata": {},
   "source": [
    "sets"
   ]
  },
  {
   "cell_type": "code",
   "execution_count": null,
   "metadata": {},
   "outputs": [],
   "source": [
    "As= Set([2,3,4,4,5,6])\n",
    "4 ∈ As"
   ]
  },
  {
   "cell_type": "markdown",
   "metadata": {},
   "source": [
    "loops \n",
    "=========================================="
   ]
  },
  {
   "cell_type": "markdown",
   "metadata": {},
   "source": [
    "for loops"
   ]
  },
  {
   "cell_type": "code",
   "execution_count": null,
   "metadata": {},
   "outputs": [],
   "source": [
    "A = fill(0, 10,10) # initialized 10x10 array of 0's\n",
    "for i = 1:10\n",
    "    for j ∈ 1:10\n",
    "        A[j, i] = i + j\n",
    "    end\n",
    "end\n",
    "A"
   ]
  },
  {
   "cell_type": "markdown",
   "metadata": {},
   "source": [
    "equivalent"
   ]
  },
  {
   "cell_type": "code",
   "execution_count": null,
   "metadata": {},
   "outputs": [],
   "source": [
    "for i in 1:10, j ∈ 1:10\n",
    "    A[j, i] = i + j\n",
    "end\n",
    "A"
   ]
  },
  {
   "cell_type": "markdown",
   "metadata": {},
   "source": [
    "conditionals\n",
    "=========================================="
   ]
  },
  {
   "cell_type": "code",
   "execution_count": null,
   "metadata": {},
   "outputs": [],
   "source": [
    "x = 2\n",
    "if x == 5\n",
    "    print(1)\n",
    "else\n",
    "    print(2)\n",
    "end"
   ]
  },
  {
   "cell_type": "markdown",
   "metadata": {},
   "source": [
    "comprehensions \n",
    "=========================================="
   ]
  },
  {
   "cell_type": "code",
   "execution_count": null,
   "metadata": {},
   "outputs": [],
   "source": [
    "#% comprehensions for quick construction of Arrays\n",
    "[sin(x) for x = 1:3]"
   ]
  },
  {
   "cell_type": "markdown",
   "metadata": {},
   "source": [
    "for matrix construction"
   ]
  },
  {
   "cell_type": "code",
   "execution_count": null,
   "metadata": {},
   "outputs": [],
   "source": [
    "[abs(i - j) for i = [4, 7, 8], j = 1:3]"
   ]
  },
  {
   "cell_type": "markdown",
   "metadata": {},
   "source": [
    "flatten to 1 -d"
   ]
  },
  {
   "cell_type": "code",
   "execution_count": null,
   "metadata": {},
   "outputs": [],
   "source": [
    "[abs(i - j) for i = [4, 7, 8] for j = 1:3]"
   ]
  },
  {
   "cell_type": "markdown",
   "metadata": {},
   "source": [
    "flatten with conditionals"
   ]
  },
  {
   "cell_type": "code",
   "execution_count": null,
   "metadata": {},
   "outputs": [],
   "source": [
    "[abs(i - j) for i = [4, 7, 8] for j = 1:3 if i-j > 2]"
   ]
  },
  {
   "cell_type": "markdown",
   "metadata": {},
   "source": [
    "preserving shape"
   ]
  },
  {
   "cell_type": "code",
   "execution_count": null,
   "metadata": {},
   "outputs": [],
   "source": [
    "mat = rand(5,5)\n",
    "[x^2 for x in mat]"
   ]
  },
  {
   "cell_type": "markdown",
   "metadata": {},
   "source": [
    "not preserving shape"
   ]
  },
  {
   "cell_type": "code",
   "execution_count": null,
   "metadata": {},
   "outputs": [],
   "source": [
    "[x^2 for x in vec(mat)]"
   ]
  },
  {
   "cell_type": "markdown",
   "metadata": {},
   "source": [
    "prepend the comprehension to inform the type of the array"
   ]
  },
  {
   "cell_type": "code",
   "execution_count": null,
   "metadata": {},
   "outputs": [],
   "source": [
    "a = Float32(1.0)\n",
    "typeof(a)\n",
    "typeof(2*a)\n",
    "Float64[a*k for k ∈ 1:5]\n",
    "Float32[a*k for k ∈ 1:5]"
   ]
  },
  {
   "cell_type": "markdown",
   "metadata": {},
   "source": []
  },
  {
   "cell_type": "code",
   "execution_count": null,
   "metadata": {},
   "outputs": [],
   "source": [
    "vecv = Array{Float64,1}[rand(i) for i=1:10]"
   ]
  },
  {
   "cell_type": "markdown",
   "metadata": {},
   "source": [
    "`Vector{T}` is shorthand for `Array{T,1}`\n",
    "`Vector` is shorthand for `Array{T,1} where T`"
   ]
  },
  {
   "cell_type": "code",
   "execution_count": null,
   "metadata": {},
   "outputs": [],
   "source": [
    "matv = Vector[rand(i+j) for i ∈ 1:10, j ∈ 2:5]"
   ]
  },
  {
   "cell_type": "markdown",
   "metadata": {},
   "source": [
    "generaters \n",
    "========================================================"
   ]
  },
  {
   "cell_type": "code",
   "execution_count": null,
   "metadata": {},
   "outputs": [],
   "source": [
    "A = rand(10_000)\n",
    "@time sum(exp.(A) .+ sin.(A) .+ cos.(A))\n",
    "@time sum(exp(a) + sin(a) + cos(a) for a in A)"
   ]
  },
  {
   "cell_type": "markdown",
   "metadata": {},
   "source": [
    "shell scripting\n",
    "========================================================"
   ]
  },
  {
   "cell_type": "code",
   "execution_count": null,
   "metadata": {},
   "outputs": [],
   "source": [
    "for ν in [0.8, 1.2, 2.2], ρ in [0.05, 0.2], xmax in [1.2, 1.4]\n",
    "    # run(`julia scripts/script1d/script1d.jl $ν $ρ $σ $prdc_sim $xmax`)\n",
    "    @show `julia scripts/script1d/script1d.jl $ν $ρ $xmax`\n",
    "end\n",
    "\n",
    "# ρ = [0.05, 0.2]\n",
    "# xmax = [1.2, 1.4]\n",
    "# `julia ρ = $ρ, xmax=@xmax`"
   ]
  },
  {
   "cell_type": "markdown",
   "metadata": {},
   "source": [
    "closures\n",
    "========================================================"
   ]
  },
  {
   "cell_type": "code",
   "execution_count": null,
   "metadata": {},
   "outputs": [],
   "source": [
    "function clos(data)\n",
    "    # withing the function scope, data acts like a global variable\n",
    "    function loglike(μ)\n",
    "        -0.5 * sum(abs2, data .- μ)\n",
    "    end\n",
    "    function updatedata(val)\n",
    "        push!(data, val)\n",
    "    end\n",
    "    loglike, updatedata # return the two functions\n",
    "end\n",
    "\n",
    "like1, updatedata1 = clos(rand(10))\n",
    "# now the data is closed off to any mutations other than\n",
    "# those given by updatedata\n",
    "\n",
    "\n",
    "[like1(μ) for μ=0.1:.1:3] |> x -> plot(0.1:.1:3, x)\n",
    "\n",
    "updatedata1(10) # add 10 to the data set\n",
    "\n",
    "[like1(μ) for μ=0.1:.1:3] |> x -> plot(0.1:.1:3, x)"
   ]
  },
  {
   "cell_type": "markdown",
   "metadata": {},
   "source": [
    "closures are useful for making passing a likelihood function to an optimization package"
   ]
  },
  {
   "cell_type": "markdown",
   "metadata": {},
   "source": [
    "some useful packages \n",
    "========================================================"
   ]
  },
  {
   "cell_type": "markdown",
   "metadata": {},
   "source": [
    "PyPlot\n",
    "----------------------------------------------------"
   ]
  },
  {
   "cell_type": "code",
   "execution_count": null,
   "metadata": {},
   "outputs": [],
   "source": [
    "using PyPlot\n",
    "x = sin.(1 ./ range(.05, 0.5, length=1_000))\n",
    "plot(x, \"r--\")\n",
    "title(\"My Plot\")\n",
    "ylabel(\"red curve\")\n",
    "\n",
    "figure()\n",
    "imshow(rand(100,100))\n",
    "\n",
    "\n",
    "##  PyCall Spatial Interpolation (compare with python code)"
   ]
  },
  {
   "cell_type": "markdown",
   "metadata": {},
   "source": [
    "----------------------------------------------------"
   ]
  },
  {
   "cell_type": "code",
   "execution_count": null,
   "metadata": {},
   "outputs": [],
   "source": [
    "using PyCall\n",
    "scii = pyimport(\"scipy.interpolate\")\n",
    "\n",
    "function f(x, y)\n",
    "    s = hypot(x, y)\n",
    "    phi = atan(y, x)\n",
    "    tau = s + s*(1-s)/5 * sin(6*phi) \n",
    "    return 5*(1-tau) + tau\n",
    "end\n",
    "\n",
    "# These are the non-uniform spatial points we have f observed on \n",
    "npts = 400\n",
    "px   = 2 .* rand(npts) .- 1\n",
    "py   = 2 .* rand(npts) .- 1\n",
    "pf   = f.(px, py)\n",
    "\n",
    "# This the spatial grid of points we want to interpolate \n",
    "nxgrid = 200\n",
    "nygrid = 200\n",
    "X = range(-1,1,length=nxgrid)  .+ fill(0, nxgrid, nygrid) \n",
    "Y = range(-1,1,length=nygrid)' .+ fill(0, nxgrid, nygrid) \n",
    "\n",
    "# 2-d interpolation of irregular spatial locations\n",
    "griddata = scii.griddata\n",
    "\n",
    "# Here is the interpolation\n",
    "fn = griddata((px, py), pf, (X, Y), method=\"nearest\")\n",
    "fl = griddata((px, py), pf, (X, Y), method=\"linear\")\n",
    "fc = griddata((px, py), pf, (X, Y), method=\"cubic\")\n",
    "\n",
    "# plot it...\n",
    "fig, ax = subplots(nrows=2, ncols=2)\n",
    "\n",
    "ax[1,1].contourf(X, Y, f.(X, Y))\n",
    "ax[1,1].scatter(px, py, c=\"k\", alpha=0.2, marker=\".\")\n",
    "ax[1,1].set_title(\"Sample points on f(X,Y)\")\n",
    "\n",
    "for (method,finterp,rc) ∈ zip((\"nearest\",\"linear\",\"cubic\"), (fn, fl, fc),((1,2),(2,1),(2,2)))\n",
    "\tax[rc[1],rc[2]].contourf(X, Y, finterp)\n",
    "\tax[rc[1],rc[2]].set_title(\"method = $method\")\n",
    "end\n",
    "\n",
    "tight_layout()"
   ]
  },
  {
   "cell_type": "markdown",
   "metadata": {},
   "source": [
    "from \n",
    "https://scipython.com/book/chapter-8-scipy/examples/two-dimensional-interpolation-with-scipyinterpolategriddata/"
   ]
  },
  {
   "cell_type": "code",
   "execution_count": null,
   "metadata": {},
   "outputs": [],
   "source": [
    "py\"\"\" \n",
    "import numpy as np\n",
    "from scipy.interpolate import griddata\n",
    "import matplotlib.pyplot as plt\n",
    "\n",
    "x = np.linspace(-1,1,100)\n",
    "y =  np.linspace(-1,1,100)\n",
    "X, Y = np.meshgrid(x,y)\n",
    "\n",
    "def f(x, y):\n",
    "    s = np.hypot(x, y)\n",
    "    phi = np.arctan2(y, x)\n",
    "    tau = s + s*(1-s)/5 * np.sin(6*phi) \n",
    "    return 5*(1-tau) + tau\n",
    "\n",
    "T = f(X, Y)\n",
    "# Choose npts random point from the discrete domain of our model function\n",
    "npts = 400\n",
    "px, py = np.random.choice(x, npts), np.random.choice(y, npts)\n",
    "\n",
    "fig, ax = plt.subplots(nrows=2, ncols=2)\n",
    "# Plot the model function and the randomly selected sample points\n",
    "ax[0,0].contourf(X, Y, T)\n",
    "ax[0,0].scatter(px, py, c='k', alpha=0.2, marker='.')\n",
    "ax[0,0].set_title('Sample points on f(X,Y)')\n",
    "\n",
    "# Interpolate using three different methods and plot\n",
    "for i, method in enumerate(('nearest', 'linear', 'cubic')):\n",
    "    Ti = griddata((px, py), f(px,py), (X, Y), method=method)\n",
    "    r, c = (i+1) // 2, (i+1) % 2\n",
    "    ax[r,c].contourf(X, Y, Ti)\n",
    "    ax[r,c].set_title(\"method = '{}'\".format(method))\n",
    "\n",
    "plt.tight_layout()\n",
    "plt.show()\n",
    "\"\"\"\n",
    "\n",
    "py\"npts\""
   ]
  },
  {
   "cell_type": "markdown",
   "metadata": {},
   "source": [
    "PyCall UnivariateSpline\n",
    "----------------------------------------------------"
   ]
  },
  {
   "cell_type": "code",
   "execution_count": null,
   "metadata": {},
   "outputs": [],
   "source": [
    "using PyCall\n",
    "scii = pyimport(\"scipy.interpolate\")\n",
    "x = 1:10\n",
    "y = sin.(x) .+ rand(10) ./ 5\n",
    "iy = scii.UnivariateSpline(x, y, s = 0) # python object\n",
    "\n",
    "# here is all the stuff in iy\n",
    "keys(iy)\n",
    "\n",
    "yinterp(x) = iy(x) # the function behavior in Python behaves the same in Julia\n",
    "xnew = range(2, 9, length=1000)\n",
    "figure()\n",
    "plot(xnew, yinterp(xnew))\n",
    "plot(x, y,\"r*\")"
   ]
  },
  {
   "cell_type": "code",
   "execution_count": null,
   "metadata": {},
   "outputs": [],
   "source": [
    "# EXTRA STUFF\n",
    "# Q: how does git know what's on my computer that's on git?"
   ]
  }
 ],
 "metadata": {
  "kernelspec": {
   "display_name": "Julia 1.2.0",
   "language": "julia",
   "name": "julia-1.2"
  },
  "language_info": {
   "file_extension": ".jl",
   "mimetype": "application/julia",
   "name": "julia",
   "version": "1.2.0"
  }
 },
 "nbformat": 4,
 "nbformat_minor": 2
}
